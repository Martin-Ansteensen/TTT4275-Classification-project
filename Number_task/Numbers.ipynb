{
 "cells": [
  {
   "cell_type": "markdown",
   "metadata": {},
   "source": [
    "## Number classifier task"
   ]
  },
  {
   "cell_type": "code",
   "execution_count": 10,
   "metadata": {},
   "outputs": [],
   "source": [
    "import numpy as np\n",
    "import matplotlib.pyplot as plt\n",
    "import scipy"
   ]
  },
  {
   "cell_type": "code",
   "execution_count": 3,
   "metadata": {},
   "outputs": [],
   "source": [
    "#Helper extraction functions\n",
    "\n",
    "def extract_data(path):\n",
    "    \"\"\"Load data file\"\"\"\n",
    "    return np.loadtxt(path, dtype=np.int16, delimiter=',')\n",
    "\n",
    "def reshape_matrix(mat):\n",
    "    \"\"\"Reshape each line in the matrix into a quadratic image\"\"\"\n",
    "    reshapedMat = []\n",
    "    \n",
    "    for i in range(np.size(mat,0)):\n",
    "        reshapedMat.append(mat[i,:].reshape(28,28))\n",
    "\n",
    "    return np.array(reshapedMat)"
   ]
  },
  {
   "cell_type": "code",
   "execution_count": 4,
   "metadata": {},
   "outputs": [],
   "source": [
    "# Extract data from csv files\n",
    "\n",
    "trainv = extract_data(\"numbers_data/trainv.csv\")  \n",
    "testv = extract_data(\"numbers_data/testv.csv\")\n",
    "trainlab = extract_data(\"numbers_data/trainlab.csv\")\n",
    "testlab = extract_data(\"numbers_data/testlab.csv\")\n",
    "\n",
    "# Reshaped data contains images\n",
    "# reshapedTrainv = reshape_matrix(trainv)\n",
    "# reshapedTestv = reshape_matrix(testv)"
   ]
  },
  {
   "cell_type": "code",
   "execution_count": 5,
   "metadata": {},
   "outputs": [
    {
     "name": "stdout",
     "output_type": "stream",
     "text": [
      "(2, 4)\n",
      "(3, 4)\n",
      "Difference\n",
      "[[[ 1  1  1  1]\n",
      "  [ 2  2  2  2]]\n",
      "\n",
      " [[ 0  0  0  0]\n",
      "  [ 1  1  1  1]]\n",
      "\n",
      " [[-4 -4 -4 -4]\n",
      "  [-3 -3 -3 -3]]]\n",
      "\n",
      "Norm 1\n",
      "[[2. 4.]\n",
      " [0. 2.]\n",
      " [8. 6.]]\n",
      "\n",
      "Closest training sample index\n",
      "[0 0 1]\n",
      "\n",
      "Closest training sample class\n",
      "['1' '1' '2']\n"
     ]
    }
   ],
   "source": [
    "# Toy example to figure out numpy functions\n",
    "\n",
    "# List of 2x2 images already classified\n",
    "train = np.array([\n",
    "    [1, 1, 1, 1], \n",
    "    [2, 2, 2, 2],\n",
    "    [3, 3, 3, 3],\n",
    "    [4, 4, 4, 4]\n",
    "])\n",
    "\n",
    "label = np.array([\"1\", \"2\", \"3\", \"4\"])\n",
    "\n",
    "# Images we want classified\n",
    "test = np.array([\n",
    "    [0, 0, 0, 0],\n",
    "    [1, 1, 1, 1],\n",
    "    [5, 5, 5, 5]\n",
    "])\n",
    "\n",
    "print(train.shape)\n",
    "print(test.shape)\n",
    "\n",
    "# For each element in test: subtract it from all elements in data\n",
    "# We should get a new matrix for each element in test\n",
    "diff = train - test[:, np.newaxis]\n",
    "print(\"Difference\")\n",
    "print(diff)\n",
    "\n",
    "# Calculate the norm. Each row in the matrix is the distance between one test and all train\n",
    "norm1 = np.linalg.norm(diff, axis=2)\n",
    "print(\"\\nNorm 1\")\n",
    "print(norm1)\n",
    "\n",
    "\n",
    "# Choose the smallest distance\n",
    "nn_idx = np.argmin(norm1, axis=1)\n",
    "print(\"\\nClosest training sample index\")\n",
    "print(nn_idx)\n",
    "\n",
    "# Print the label\n",
    "predicted_class = label[nn_idx]\n",
    "print(\"\\nClosest training sample class\")\n",
    "print(predicted_class)"
   ]
  },
  {
   "cell_type": "code",
   "execution_count": 29,
   "metadata": {},
   "outputs": [
    {
     "name": "stdout",
     "output_type": "stream",
     "text": [
      "0.9691\n"
     ]
    }
   ],
   "source": [
    "# Calculate results of NN\n",
    "import scipy.spatial\n",
    "\n",
    "\n",
    "start = 0\n",
    "n_samples = int(1e4)\n",
    "buff_size = 500\n",
    "\n",
    "nn_idx = np.zeros(n_samples, dtype=int)\n",
    "\n",
    "for i in range(start, n_samples, buff_size):\n",
    "    # diff = (trainv - testv[i:i+buff_size, np.newaxis])\n",
    "    # norm = np.linalg.norm(diff, axis=2)\n",
    "    norm = scipy.spatial.distance.cdist(testv[i:i+buff_size], trainv, metric=\"euclidean\")  # this is 10x faster than the above lines\n",
    "    nn_idx[i:i+buff_size] = np.argmin(norm, axis=1)\n",
    "\n",
    "nn_pred = trainlab[nn_idx]\n",
    "correct_predictions = (testlab[:n_samples] == nn_pred)\n",
    "print(sum(correct_predictions)/n_samples)\n",
    "\n"
   ]
  },
  {
   "cell_type": "code",
   "execution_count": 28,
   "metadata": {},
   "outputs": [
    {
     "name": "stdout",
     "output_type": "stream",
     "text": [
      "(10000,)\n"
     ]
    }
   ],
   "source": [
    "print(nn_idx.shape)\n",
    "np.savetxt(\"pred_no_cluster.txt\", nn_idx, fmt=\"%.d\")\n"
   ]
  }
 ],
 "metadata": {
  "kernelspec": {
   "display_name": "Python 3",
   "language": "python",
   "name": "python3"
  },
  "language_info": {
   "codemirror_mode": {
    "name": "ipython",
    "version": 3
   },
   "file_extension": ".py",
   "mimetype": "text/x-python",
   "name": "python",
   "nbconvert_exporter": "python",
   "pygments_lexer": "ipython3",
   "version": "3.10.12"
  }
 },
 "nbformat": 4,
 "nbformat_minor": 2
}
