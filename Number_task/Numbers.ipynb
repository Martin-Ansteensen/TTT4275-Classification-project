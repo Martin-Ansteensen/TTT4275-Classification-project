{
 "cells": [
  {
   "cell_type": "markdown",
   "metadata": {},
   "source": [
    "## Number classifier task"
   ]
  },
  {
   "cell_type": "code",
   "execution_count": 4,
   "metadata": {},
   "outputs": [],
   "source": [
    "import numpy as np\n",
    "import matplotlib.pyplot as plt"
   ]
  },
  {
   "cell_type": "code",
   "execution_count": 5,
   "metadata": {},
   "outputs": [],
   "source": [
    "#Helper extraction functions\n",
    "\n",
    "def extract_data(path):\n",
    "    return np.loadtxt(path, dtype=np.uint8, delimiter=',')\n",
    "\n",
    "def reshape_matrix(mat):\n",
    "    reshapedMat = []\n",
    "    \n",
    "    for i in range(np.size(mat,0)):\n",
    "        reshapedMat.append(mat[i,:].reshape(28,28))\n",
    "\n",
    "    return np.array(reshapedMat)"
   ]
  },
  {
   "cell_type": "code",
   "execution_count": 6,
   "metadata": {},
   "outputs": [],
   "source": [
    "# Extract data from csv files\n",
    "\n",
    "trainv = extract_data(\"numbers_data/trainv.csv\")  \n",
    "testv = extract_data(\"numbers_data/testv.csv\")\n",
    "trainlab = extract_data(\"numbers_data/trainlab.csv\")\n",
    "testlab = extract_data(\"numbers_data/testlab.csv\")\n",
    "\n",
    "reshapedTrainv = reshape_matrix(trainv)\n",
    "reshapedTestv = reshape_matrix(testv)"
   ]
  },
  {
   "cell_type": "code",
   "execution_count": 11,
   "metadata": {},
   "outputs": [
    {
     "name": "stdout",
     "output_type": "stream",
     "text": [
      "[24700 15438 53361 28427 15514 10399 14228 37920 51724 17917]\n",
      "7\n",
      "1\n",
      "1\n",
      "0\n",
      "4\n",
      "1\n",
      "1\n",
      "1\n",
      "1\n",
      "7\n"
     ]
    }
   ],
   "source": [
    "for i in range(0,1,1):\n",
    "    diff = reshapedTrainv - reshapedTestv[i:i+10, np.newaxis, :, :]\n",
    "    norm = np.linalg.norm(diff, axis=(2,3), ord=\"fro\")\n",
    "    predicted_class = np.argmin(norm, axis=1)\n",
    "    print(predicted_class)\n",
    "    \n",
    "\n",
    "for elm in predicted_class:\n",
    "    print(trainlab[elm])\n",
    "\n"
   ]
  }
 ],
 "metadata": {
  "kernelspec": {
   "display_name": "Python 3",
   "language": "python",
   "name": "python3"
  },
  "language_info": {
   "codemirror_mode": {
    "name": "ipython",
    "version": 3
   },
   "file_extension": ".py",
   "mimetype": "text/x-python",
   "name": "python",
   "nbconvert_exporter": "python",
   "pygments_lexer": "ipython3",
   "version": "3.10.12"
  }
 },
 "nbformat": 4,
 "nbformat_minor": 2
}
