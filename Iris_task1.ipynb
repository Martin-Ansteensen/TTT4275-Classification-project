{
 "cells": [
  {
   "cell_type": "markdown",
   "metadata": {},
   "source": [
    "## IRIS Task"
   ]
  },
  {
   "cell_type": "code",
   "execution_count": 8,
   "metadata": {},
   "outputs": [],
   "source": [
    "import numpy as np\n",
    "import matplotlib.pyplot as plt"
   ]
  },
  {
   "cell_type": "code",
   "execution_count": 9,
   "metadata": {},
   "outputs": [],
   "source": [
    "setosaTrainingVec = []\n",
    "versicolorTrainingVec = []\n",
    "virginicaTrainingVec = []\n",
    "\n",
    "setosaTestVec = []\n",
    "versicolorTestVec = []\n",
    "virginicaTestVec = []\n",
    "\n",
    "TrainingSize = 30\n",
    "TestSize = 20\n",
    "\n",
    "with open('iris_data/class_1', 'r') as file:\n",
    "    for line in file:\n",
    "        if len(setosaTrainingVec) < TrainingSize:\n",
    "            setosaTrainingVec.append([float(x) for x in line.split(',')])\n",
    "        else:\n",
    "            setosaTestVec.append([float(x) for x in line.split(',')])\n",
    "\n",
    "with open('iris_data/class_2', 'r') as file:\n",
    "    for line in file:\n",
    "        if len(versicolorTrainingVec) < TrainingSize:\n",
    "            versicolorTrainingVec.append([float(x) for x in line.split(',')])\n",
    "        else:\n",
    "            versicolorTestVec.append([float(x) for x in line.split(',')])\n",
    "\n",
    "with open('iris_data/class_3', 'r') as file:\n",
    "    for line in file:\n",
    "        if len(virginicaTrainingVec) < TrainingSize:\n",
    "            virginicaTrainingVec.append([float(x) for x in line.split(',')])\n",
    "        else:\n",
    "            virginicaTestVec.append([float(x) for x in line.split(',')])"
   ]
  },
  {
   "cell_type": "code",
   "execution_count": 10,
   "metadata": {},
   "outputs": [],
   "source": [
    "#In order to properly implement w0 we need to extend the example data with 1(vector)\n",
    "ones_vector_training = np.ones((TrainingSize, 1))\n",
    "ones_vector_test = np.ones((TestSize, 1))\n",
    "\n",
    "setosaTrainingVec = np.array(setosaTrainingVec)\n",
    "versicolorTrainingVec = np.array(versicolorTrainingVec)\n",
    "virginicaTrainingVec = np.array(virginicaTrainingVec)\n",
    "\n",
    "# adding ones to training set\n",
    "setosaTrainingVec = np.concatenate((setosaTrainingVec, ones_vector_training), axis=1)\n",
    "versicolorTrainingVec = np.concatenate((versicolorTrainingVec, ones_vector_training), axis=1)\n",
    "virginicaTrainingVec = np.concatenate((virginicaTrainingVec, ones_vector_training), axis=1)\n",
    "\n",
    "setosaTestVec = np.array(setosaTestVec)\n",
    "versicolorTestVec = np.array(versicolorTestVec)\n",
    "virginicaTestVec = np.array(virginicaTestVec)\n",
    "\n",
    "# adding ones to test set\n",
    "setosaTestVec = np.concatenate((setosaTestVec, ones_vector_test), axis=1)\n",
    "versicolorTestVec = np.concatenate((versicolorTestVec, ones_vector_test), axis=1)\n",
    "virginicaTestVec = np.concatenate((virginicaTestVec, ones_vector_test), axis=1)\n",
    "\n",
    "X = np.concatenate((setosaTrainingVec, versicolorTrainingVec, virginicaTrainingVec), axis=0)\n",
    "X_test = np.concatenate((setosaTestVec, versicolorTestVec, virginicaTestVec), axis=0)"
   ]
  },
  {
   "cell_type": "code",
   "execution_count": 11,
   "metadata": {},
   "outputs": [
    {
     "name": "stdout",
     "output_type": "stream",
     "text": [
      "[0.66583558 0.57682654 0.57587511]\n"
     ]
    }
   ],
   "source": [
    "np.random.seed(42)\n",
    "\n",
    "x = np.append(np.array([np.random.randint(-2,2) for i in range(4)]), 1)\n",
    "W = np.random.uniform(-1, 1, (3,5)) # W is 3x4 and w0 is 3x1, together we get [W w0] -> W\n",
    "T = np.concatenate((np.tile([1,0,0], (TrainingSize,1)), np.tile([0,1,0], (TrainingSize,1)), np.tile([0,0,1], (TrainingSize,1))))\n",
    "\n",
    "def g(x, W): # Eq 20 on vector form classification compendium\n",
    "    zk = np.matmul(W, x)\n",
    "    gk = 1 / (1 + np.exp(-zk))\n",
    "    return gk\n",
    "\n",
    "print(g(x, W))"
   ]
  },
  {
   "cell_type": "code",
   "execution_count": 12,
   "metadata": {},
   "outputs": [
    {
     "name": "stdout",
     "output_type": "stream",
     "text": [
      "41.49937054835796\n",
      "[[-1.56844111 -2.6637589   2.46003181  1.16682085 -0.58106419]\n",
      " [ 0.78590981  0.47866727  0.3840899   0.11332964  0.14880311]\n",
      " [ 9.68291571  8.56425953 -2.22837451 -1.90205383  2.35264238]]\n"
     ]
    }
   ],
   "source": [
    "def MSE(X, T, W): # Eq 19 in classification compendium\n",
    "    \n",
    "    mseSum = 0\n",
    "    for i in range(np.size(X, 0)):\n",
    "        xk = X[i,:]\n",
    "        tk = T[i,:]\n",
    "        gk = g(xk, W)\n",
    "        \n",
    "        mseSum += (1/2)* np.linalg.norm((gk - tk), ord=2)\n",
    "    \n",
    "    return mseSum\n",
    "\n",
    "def gradMSE(X, T, W): # Eq 22\n",
    "    \n",
    "    gradMSESum = np.zeros((3,5))\n",
    "    \n",
    "    for i in range(np.size(X, 0)):\n",
    "        xk = X[i,:]\n",
    "        tk = T[i,:]\n",
    "        gk = g(xk, W)\n",
    "        \n",
    "        a = np.multiply((gk - tk), gk)\n",
    "        b = np.multiply(a, np.ones(3).T - gk)\n",
    "\n",
    "        gradMSESum += np.outer(b, xk)\n",
    "\n",
    "    return gradMSESum\n",
    "\n",
    "print(MSE(X, T, W))\n",
    "print(gradMSE(X, T, W))"
   ]
  },
  {
   "cell_type": "markdown",
   "metadata": {},
   "source": [
    "## Linesearch\n",
    "\n",
    "Step lenght determined by algorithm 3.1 in Numerical Optimization by N&W, Method of training is steepest descent"
   ]
  },
  {
   "cell_type": "code",
   "execution_count": 13,
   "metadata": {},
   "outputs": [],
   "source": [
    "# Backtracking linesearch algorithm 3.1 (Not used)\n",
    "\n",
    "alpha0 = 1\n",
    "rho = 0.95\n",
    "c = 10e-3\n",
    "\n",
    "def backtrackingLineSearch(rho, c, Wk, pk):\n",
    "    alpha = alpha0\n",
    "    while MSE(X, T, (Wk + alpha*pk)) > MSE(X, T, Wk) + c * alpha * np.linalg.norm(np.matmul(pk.T, pk), ord='fro'):\n",
    "        alpha = alpha * rho\n",
    "    \n",
    "    return alpha\n",
    "    "
   ]
  },
  {
   "cell_type": "code",
   "execution_count": 22,
   "metadata": {},
   "outputs": [
    {
     "name": "stdout",
     "output_type": "stream",
     "text": [
      "final MSE with condition on GradW: 42.426451410167864, after 85 number of iterations\n",
      "final norm of GradW with condition on GradW: 2.1518304750074185e-05\n",
      "\n",
      "\n",
      "final MSE with condition on GradW: 42.426402762089324, after 185 number of iterations\n",
      "final norm of DeltaMSE with condition on DeltaMSE: 1.652298124057606e-05 \n",
      "\n",
      "\n",
      "final MSE with condition on GradW: 14.299981369938015, after 17576 number of iterations\n",
      "final norm of DeltaMSE with condition on MSE: 0.20573887123332793\n"
     ]
    }
   ],
   "source": [
    "tolerance = 1e-3\n",
    "alpha1 = 0.2\n",
    "alpha2 = 0.15\n",
    "alpha3 = 0.0175\n",
    "\n",
    "np.random.seed(10)\n",
    "W_input = np.random.uniform(-1, 1, (3,5))\n",
    "W_old_input = W_input + 10*np.ones((3,5))\n",
    "\n",
    "\n",
    "W = W_input\n",
    "iterations = 0\n",
    "#Condition on grad W\n",
    "while np.linalg.norm(gradMSE(X, T, W), ord='fro') > tolerance:\n",
    "    W = W - alpha1 * gradMSE(X, T, W)\n",
    "    iterations+=1\n",
    "    #print(f\"Norm: {np.linalg.norm(gradMSE(X, T, W), ord='fro')}, MSE: {MSE(X, T, W)}\")\n",
    "\n",
    "print(f\"final MSE with condition on GradW: {MSE(X,T,W)}, after {iterations} number of iterations\")\n",
    "print(f\"final norm of GradW with condition on GradW: {np.linalg.norm(gradMSE(X, T, W), ord='fro')}\\n\\n\")\n",
    "\n",
    "W = W_input\n",
    "W_old = W_old_input\n",
    "iterations = 0\n",
    "#Condition on change in W\n",
    "while np.linalg.norm(W-W_old, ord='fro') > tolerance:\n",
    "    #print(f\"Change in W: {np.linalg.norm(W-W_old, ord='fro')}, MSE: {MSE(X, T, W)}\")\n",
    "    W_old = W\n",
    "    W = W - alpha2 * gradMSE(X, T, W)\n",
    "    iterations +=1\n",
    "\n",
    "\n",
    "print(f\"final MSE with condition on GradW: {MSE(X,T,W)}, after {iterations} number of iterations\")\n",
    "print(f\"final norm of DeltaMSE with condition on DeltaMSE: {np.linalg.norm(W-W_old, ord='fro')} \\n\\n\")\n",
    "\n",
    "W = W_input\n",
    "W_old = W_old_input\n",
    "iterations = 0\n",
    "# Condition on MSE\n",
    "while MSE(X, T, W) > 14.3:\n",
    "    \n",
    "    gradW = gradMSE(X,T,W)\n",
    "    #print(f\"Change in W1: {np.linalg.norm(W-W_old, ord='fro')}, MSE: {MSE(X, T, W)}\")\n",
    "    W_old = W\n",
    "    W = W - alpha3 * gradW\n",
    "    iterations +=1\n",
    "\n",
    "\n",
    "print(f\"final MSE with condition on GradW: {MSE(X,T,W)}, after {iterations} number of iterations\")\n",
    "print(f\"final norm of DeltaMSE with condition on MSE: {np.linalg.norm(W-W_old, ord='fro')}\")\n"
   ]
  },
  {
   "cell_type": "markdown",
   "metadata": {},
   "source": [
    "# Verification of model"
   ]
  },
  {
   "cell_type": "code",
   "execution_count": null,
   "metadata": {},
   "outputs": [
    {
     "name": "stdout",
     "output_type": "stream",
     "text": [
      "[[20.  0.  0.]\n",
      " [ 0. 18.  2.]\n",
      " [ 0.  0. 20.]]\n"
     ]
    },
    {
     "data": {
      "text/plain": [
       "Text(0.5, 1.0, '30 first training / 20 last test')"
      ]
     },
     "execution_count": 17,
     "metadata": {},
     "output_type": "execute_result"
    },
    {
     "data": {
      "image/png": "[encoded data removed]",
      "text/plain": [
       "<Figure size 1000x700 with 2 Axes>"
      ]
     },
     "metadata": {},
     "output_type": "display_data"
    }
   ],
   "source": [
    "import seaborn as sn\n",
    "\n",
    "T_test = np.concatenate((np.tile([1,0,0], (TestSize,1)), np.tile([0,1,0], (TestSize,1)), np.tile([0,0,1], (TestSize,1))))\n",
    "\n",
    "# x-axis: true class\n",
    "# y-axis: predicted class\n",
    "confMatrix = np.zeros((3,3))\n",
    "\n",
    "for i in range(np.size(X_test, 0)):\n",
    "    x = X_test[i, :]\n",
    "    t = T_test[i, :]\n",
    "    \n",
    "    true_class = np.argmax(t)\n",
    "    predicted_class = np.argmax(g(x, W))\n",
    "    #print(true_class, np.argmax(g(x, W)))\n",
    "    confMatrix[true_class][predicted_class] += 1\n",
    "\n",
    "print(confMatrix)\n",
    "\n",
    "plt.figure(figsize = (10,7))\n",
    "sn.heatmap(confMatrix, annot=True).set_title('30 first training / 20 last test')\n"
   ]
  }
 ],
 "metadata": {
  "kernelspec": {
   "display_name": "Python 3",
   "language": "python",
   "name": "python3"
  },
  "language_info": {
   "codemirror_mode": {
    "name": "ipython",
    "version": 3
   },
   "file_extension": ".py",
   "mimetype": "text/x-python",
   "name": "python",
   "nbconvert_exporter": "python",
   "pygments_lexer": "ipython3",
   "version": "3.10.12"
  }
 },
 "nbformat": 4,
 "nbformat_minor": 2
}
