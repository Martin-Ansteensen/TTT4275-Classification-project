{
 "cells": [
  {
   "cell_type": "markdown",
   "metadata": {},
   "source": [
    "## IRIS Task"
   ]
  },
  {
   "cell_type": "code",
   "execution_count": 227,
   "metadata": {},
   "outputs": [],
   "source": [
    "import numpy as np\n",
    "import matplotlib.pyplot as plt"
   ]
  },
  {
   "cell_type": "code",
   "execution_count": 228,
   "metadata": {},
   "outputs": [],
   "source": [
    "setosaTrainingVec = []\n",
    "versicolorTrainingVec = []\n",
    "virginicaTrainingVec = []\n",
    "\n",
    "setosaTestVec = []\n",
    "versicolorTestVec = []\n",
    "virginicaTestVec = []\n",
    "\n",
    "TrainingSize = 30\n",
    "\n",
    "with open('iris_data/class_1', 'r') as file:\n",
    "    for line in file:\n",
    "        if len(setosaTrainingVec) < TrainingSize:\n",
    "            setosaTrainingVec.append([float(x) for x in line.split(',')])\n",
    "        else:\n",
    "            setosaTestVec.append([float(x) for x in line.split(',')])\n",
    "\n",
    "with open('iris_data/class_2', 'r') as file:\n",
    "    for line in file:\n",
    "        if len(versicolorTrainingVec) < TrainingSize:\n",
    "            versicolorTrainingVec.append([float(x) for x in line.split(',')])\n",
    "        else:\n",
    "            versicolorTestVec.append([float(x) for x in line.split(',')])\n",
    "\n",
    "with open('iris_data/class_3', 'r') as file:\n",
    "    for line in file:\n",
    "        if len(virginicaTrainingVec) < TrainingSize:\n",
    "            virginicaTrainingVec.append([float(x) for x in line.split(',')])\n",
    "        else:\n",
    "            virginicaTestVec.append([float(x) for x in line.split(',')])"
   ]
  },
  {
   "cell_type": "code",
   "execution_count": 229,
   "metadata": {},
   "outputs": [],
   "source": [
    "setosaTrainingVec = np.array(setosaTrainingVec)\n",
    "versicolorTrainingVec = np.array(versicolorTrainingVec)\n",
    "virginicaTrainingVec = np.array(virginicaTestVec)\n",
    "\n",
    "setosaTestVec = np.array(setosaTestVec)\n",
    "versicolorTestVec = np.array(versicolorTestVec)\n",
    "virginicaTestVec = np.array(virginicaTestVec)\n",
    "\n",
    "X = np.concatenate((setosaTrainingVec, versicolorTrainingVec, virginicaTrainingVec), axis=0)\n",
    "X_test = np.concatenate((setosaTrainingVec, versicolorTrainingVec, virginicaTrainingVec), axis=0)"
   ]
  },
  {
   "cell_type": "code",
   "execution_count": 230,
   "metadata": {},
   "outputs": [
    {
     "name": "stdout",
     "output_type": "stream",
     "text": [
      "[0.2016787  0.99851996 0.2963353 ]\n"
     ]
    }
   ],
   "source": [
    "np.random.seed(42)\n",
    "\n",
    "x = np.array([-3, -5, 3, 5])\n",
    "W = np.random.uniform(-1, 1, (3,4))\n",
    "T = np.concatenate((np.tile([1,0,0], (30,1)), np.tile([0,1,0], (30,1)), np.tile([0,0,1], (30,1))))\n",
    "\n",
    "w0 = np.array([0, 0, 0])\n",
    "\n",
    "def g(x, W): # Eq 20 on vector form classification compendium\n",
    "    zk = np.matmul(W, x) + w0\n",
    "    gk = 1 / (1 + np.exp(-zk))\n",
    "    \n",
    "    return gk\n",
    "\n",
    "print(g(x, W))"
   ]
  },
  {
   "cell_type": "code",
   "execution_count": 231,
   "metadata": {},
   "outputs": [
    {
     "name": "stdout",
     "output_type": "stream",
     "text": [
      "45.18014179191745\n",
      "[[ 7.95901545e+00  3.42083100e+00  6.20898718e+00  2.06421884e+00]\n",
      " [-3.08533830e-02 -1.40728168e-02 -2.18044515e-02 -6.78543257e-03]\n",
      " [ 1.72922038e+01  1.24244658e+01  1.84568659e+00 -1.25142789e+00]]\n"
     ]
    }
   ],
   "source": [
    "def MSE(X, T, W): # Eq 19 in classification compendium\n",
    "    \n",
    "    mseSum = 0\n",
    "    for i in range(np.size(X, 0)):\n",
    "        xk = X[i,:]\n",
    "        tk = T[i,:]\n",
    "        gk = g(xk, W)\n",
    "        \n",
    "        mseSum += (1/2)* np.linalg.norm((gk - tk), 2)\n",
    "    \n",
    "    return mseSum\n",
    "\n",
    "def gradMSE(X, T, W): # Eq 22\n",
    "    \n",
    "    gradMSESum = np.zeros((3,4))\n",
    "    \n",
    "    for i in range(np.size(X, 0)):\n",
    "        xk = X[i,:]\n",
    "        tk = T[i,:]\n",
    "        gk = g(xk, W)\n",
    "        \n",
    "        a = np.multiply((gk - tk), gk)\n",
    "        b = np.multiply(a, np.ones(3).T - gk)\n",
    "\n",
    "        gradMSESum += np.outer(b, xk)\n",
    "\n",
    "    return gradMSESum\n",
    "\n",
    "print(MSE(X, T, W))\n",
    "print(gradMSE(X, T, W))\n",
    "    "
   ]
  },
  {
   "cell_type": "markdown",
   "metadata": {},
   "source": [
    "### Linesearch"
   ]
  },
  {
   "cell_type": "code",
   "execution_count": 232,
   "metadata": {},
   "outputs": [
    {
     "name": "stdout",
     "output_type": "stream",
     "text": [
      "Norm: 24.00463491628757, MSE: 45.18014179191745\n",
      "Norm: 0.04482919026988716, MSE: 39.99698520930121\n",
      "Norm: 0.0495989759837512, MSE: 39.99666787657253\n",
      "Norm: 0.05547536597741215, MSE: 39.99627725760188\n",
      "Norm: 0.06288426983083141, MSE: 39.99578522768344\n",
      "Norm: 0.0724971492177998, MSE: 39.99514748003768\n",
      "Norm: 0.08543352146267219, MSE: 39.99429019982849\n",
      "Norm: 0.10369816430444338, MSE: 39.9930813078987\n",
      "Norm: 0.13123640984662915, MSE: 39.99126107895144\n",
      "Norm: 0.1768949502852875, MSE: 39.98824750923937\n",
      "Norm: 0.26472776841009754, MSE: 39.98245850502508\n",
      "Norm: 0.4843934255788056, MSE: 39.96798867591133\n",
      "Norm: 1.4583963320587727, MSE: 39.90336650602318\n",
      "Norm: 19.344598243517964, MSE: 37.79840088723714\n",
      "4.227098854480517e-05\n",
      "35.355336505102066\n"
     ]
    }
   ],
   "source": [
    "tolerance = 1e-4\n",
    "alpha = 0.3\n",
    "\n",
    "np.random.seed(42)\n",
    "W = np.random.uniform(-1, 1, (3,4))\n",
    "\n",
    "while np.linalg.norm(gradMSE(X, T, W), ord='fro') > tolerance:\n",
    "    print(f\"Norm: {np.linalg.norm(gradMSE(X, T, W), ord='fro')}, MSE: {MSE(X, T, W)}\")\n",
    "    W = W - alpha * gradMSE(X, T, W)\n",
    "    \n",
    "print(np.linalg.norm(gradMSE(X, T, W), ord='fro'))\n",
    "print(MSE(X, T ,W))\n"
   ]
  }
 ],
 "metadata": {
  "kernelspec": {
   "display_name": "Python 3",
   "language": "python",
   "name": "python3"
  },
  "language_info": {
   "codemirror_mode": {
    "name": "ipython",
    "version": 3
   },
   "file_extension": ".py",
   "mimetype": "text/x-python",
   "name": "python",
   "nbconvert_exporter": "python",
   "pygments_lexer": "ipython3",
   "version": "3.10.12"
  }
 },
 "nbformat": 4,
 "nbformat_minor": 2
}
