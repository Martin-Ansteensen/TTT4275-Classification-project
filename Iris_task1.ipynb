{
 "cells": [
  {
   "cell_type": "markdown",
   "metadata": {},
   "source": [
    "## IRIS Task"
   ]
  },
  {
   "cell_type": "code",
   "execution_count": 30,
   "metadata": {},
   "outputs": [],
   "source": [
    "import numpy as np\n",
    "import matplotlib.pyplot as plt"
   ]
  },
  {
   "cell_type": "code",
   "execution_count": 31,
   "metadata": {},
   "outputs": [],
   "source": [
    "setosaTrainingVec = []\n",
    "versicolorTrainingVec = []\n",
    "virginicaTrainingVec = []\n",
    "\n",
    "setosaTestVec = []\n",
    "versicolorTestVec = []\n",
    "virginicaTestVec = []\n",
    "\n",
    "TrainingSize = 30\n",
    "TestSize = 20\n",
    "\n",
    "with open('iris_data/class_1', 'r') as file:\n",
    "    for line in file:\n",
    "        if len(setosaTrainingVec) < TrainingSize:\n",
    "            setosaTrainingVec.append([float(x) for x in line.split(',')])\n",
    "        else:\n",
    "            setosaTestVec.append([float(x) for x in line.split(',')])\n",
    "\n",
    "with open('iris_data/class_2', 'r') as file:\n",
    "    for line in file:\n",
    "        if len(versicolorTrainingVec) < TrainingSize:\n",
    "            versicolorTrainingVec.append([float(x) for x in line.split(',')])\n",
    "        else:\n",
    "            versicolorTestVec.append([float(x) for x in line.split(',')])\n",
    "\n",
    "with open('iris_data/class_3', 'r') as file:\n",
    "    for line in file:\n",
    "        if len(virginicaTrainingVec) < TrainingSize:\n",
    "            virginicaTrainingVec.append([float(x) for x in line.split(',')])\n",
    "        else:\n",
    "            virginicaTestVec.append([float(x) for x in line.split(',')])"
   ]
  },
  {
   "cell_type": "code",
   "execution_count": 32,
   "metadata": {},
   "outputs": [],
   "source": [
    "#In order to properly implement w0 we need to extend the example data with 1(vector)\n",
    "ones_vector_training = np.ones((TrainingSize, 1))\n",
    "ones_vector_test = np.ones((TestSize, 1))\n",
    "\n",
    "setosaTrainingVec = np.array(setosaTrainingVec)\n",
    "versicolorTrainingVec = np.array(versicolorTrainingVec)\n",
    "virginicaTrainingVec = np.array(virginicaTrainingVec)\n",
    "\n",
    "# adding ones to training set\n",
    "setosaTrainingVec = np.concatenate((setosaTrainingVec, ones_vector_training), axis=1)\n",
    "versicolorTrainingVec = np.concatenate((versicolorTrainingVec, ones_vector_training), axis=1)\n",
    "virginicaTrainingVec = np.concatenate((virginicaTrainingVec, ones_vector_training), axis=1)\n",
    "\n",
    "setosaTestVec = np.array(setosaTestVec)\n",
    "versicolorTestVec = np.array(versicolorTestVec)\n",
    "virginicaTestVec = np.array(virginicaTestVec)\n",
    "\n",
    "# adding ones to test set\n",
    "setosaTestVec = np.concatenate((setosaTestVec, ones_vector_test), axis=1)\n",
    "versicolorTestVec = np.concatenate((versicolorTestVec, ones_vector_test), axis=1)\n",
    "virginicaTestVec = np.concatenate((virginicaTestVec, ones_vector_test), axis=1)\n",
    "\n",
    "X = np.concatenate((setosaTrainingVec, versicolorTrainingVec, virginicaTrainingVec), axis=0)\n",
    "X_test = np.concatenate((setosaTestVec, versicolorTestVec, virginicaTestVec), axis=0)"
   ]
  },
  {
   "cell_type": "code",
   "execution_count": 33,
   "metadata": {},
   "outputs": [
    {
     "name": "stdout",
     "output_type": "stream",
     "text": [
      "[0.66583558 0.57682654 0.57587511]\n"
     ]
    }
   ],
   "source": [
    "np.random.seed(42)\n",
    "\n",
    "x = np.append(np.array([np.random.randint(-2,2) for i in range(4)]), 1)\n",
    "W = np.random.uniform(-1, 1, (3,5)) # W is 3x4 and w0 is 3x1, together we get [W w0] -> W\n",
    "T = np.concatenate((np.tile([1,0,0], (30,1)), np.tile([0,1,0], (30,1)), np.tile([0,0,1], (30,1))))\n",
    "\n",
    "def g(x, W): # Eq 20 on vector form classification compendium\n",
    "    zk = np.matmul(W, x)\n",
    "    gk = 1 / (1 + np.exp(-zk))\n",
    "    return gk\n",
    "\n",
    "print(g(x, W))"
   ]
  },
  {
   "cell_type": "code",
   "execution_count": null,
   "metadata": {},
   "outputs": [
    {
     "name": "stdout",
     "output_type": "stream",
     "text": [
      "23.527829511996543\n",
      "[[ 4.02944486e+01  1.83233122e+01  3.06259853e+01  1.01387749e+01\n",
      "   6.45635849e+00]\n",
      " [ 6.64302135e+00  3.26163505e+00  4.23660367e+00  1.28989612e+00\n",
      "   1.12873318e+00]\n",
      " [ 1.05749339e-03  3.42256616e-03 -3.25128108e-03 -7.10030368e-03\n",
      "   1.18944957e-02]]\n"
     ]
    }
   ],
   "source": [
    "def MSE(X, T, W): # Eq 19 in classification compendium\n",
    "    \n",
    "    mseSum = 0\n",
    "    for i in range(np.size(X, 0)):\n",
    "        xk = X[i,:]\n",
    "        tk = T[i,:]\n",
    "        gk = g(xk, W)\n",
    "        \n",
    "        mseSum += (1/2)* np.linalg.norm((gk - tk), ord=2)\n",
    "    \n",
    "    return mseSum\n",
    "\n",
    "def gradMSE(X, T, W): # Eq 22\n",
    "    \n",
    "    gradMSESum = np.zeros((3,5))\n",
    "    \n",
    "    for i in range(np.size(X, 0)):\n",
    "        xk = X[i,:]\n",
    "        tk = T[i,:]\n",
    "        gk = g(xk, W)\n",
    "        \n",
    "        a = np.multiply((gk - tk), gk)\n",
    "        b = np.multiply(a, np.ones(3).T - gk)\n",
    "\n",
    "        gradMSESum += np.outer(b, xk)\n",
    "\n",
    "    return gradMSESum\n",
    "\n",
    "print(MSE(X, T, W))\n",
    "print(gradMSE(X, T, W))\n",
    "    "
   ]
  },
  {
   "cell_type": "markdown",
   "metadata": {},
   "source": [
    "## Linesearch\n",
    "\n",
    "Step lenght determined by algorithm 3.1 in Numerical Optimization by N&W, Method of training is steepest descent"
   ]
  },
  {
   "cell_type": "code",
   "execution_count": 42,
   "metadata": {},
   "outputs": [],
   "source": [
    "# Backtracking linesearch algorithm 3.1\n",
    "\n",
    "alpha0 = 0\n",
    "rho = 0.9\n",
    "c = 10e-4\n",
    "\n",
    "def backtrackingLineSearch(alpha0, rho, c, Wk, pk):\n",
    "    alpha = alpha0\n",
    "    while MSE(X, Wk + alpha*pk, T) > MSE(X, Wk, T) + c * alpha * -pk.T * pk:\n",
    "        alpha = alpha * rho\n",
    "        \n",
    "        if alpha > 10e-8:\n",
    "            return TimeoutError\n",
    "    \n",
    "    return alpha\n",
    "    "
   ]
  },
  {
   "cell_type": "code",
   "execution_count": null,
   "metadata": {},
   "outputs": [
    {
     "name": "stdout",
     "output_type": "stream",
     "text": [
      "Change in W: 38.72983346207417, MSE: 55.77285104417416\n"
     ]
    },
    {
     "ename": "ValueError",
     "evalue": "matmul: Input operand 1 has a mismatch in its core dimension 0, with gufunc signature (n?,k),(k,m?)->(n?,m?) (size 5 is different from 3)",
     "output_type": "error",
     "traceback": [
      "\u001b[0;31m---------------------------------------------------------------------------\u001b[0m",
      "\u001b[0;31mValueError\u001b[0m                                Traceback (most recent call last)",
      "Cell \u001b[0;32mIn[43], line 25\u001b[0m\n\u001b[1;32m     23\u001b[0m     \u001b[38;5;28mprint\u001b[39m(\u001b[38;5;124mf\u001b[39m\u001b[38;5;124m\"\u001b[39m\u001b[38;5;124mChange in W: \u001b[39m\u001b[38;5;132;01m{\u001b[39;00mnp\u001b[38;5;241m.\u001b[39mlinalg\u001b[38;5;241m.\u001b[39mnorm(W\u001b[38;5;241m-\u001b[39mW_old,\u001b[38;5;250m \u001b[39m\u001b[38;5;28mord\u001b[39m\u001b[38;5;241m=\u001b[39m\u001b[38;5;124m'\u001b[39m\u001b[38;5;124mfro\u001b[39m\u001b[38;5;124m'\u001b[39m)\u001b[38;5;132;01m}\u001b[39;00m\u001b[38;5;124m, MSE: \u001b[39m\u001b[38;5;132;01m{\u001b[39;00mMSE(X,\u001b[38;5;250m \u001b[39mT,\u001b[38;5;250m \u001b[39mW)\u001b[38;5;132;01m}\u001b[39;00m\u001b[38;5;124m\"\u001b[39m)\n\u001b[1;32m     24\u001b[0m     W_old \u001b[38;5;241m=\u001b[39m W\n\u001b[0;32m---> 25\u001b[0m     W \u001b[38;5;241m=\u001b[39m W \u001b[38;5;241m-\u001b[39m \u001b[43mbacktrackingLineSearch\u001b[49m\u001b[43m(\u001b[49m\u001b[43malpha0\u001b[49m\u001b[43m,\u001b[49m\u001b[43m \u001b[49m\u001b[43mrho\u001b[49m\u001b[43m,\u001b[49m\u001b[43m \u001b[49m\u001b[43mc\u001b[49m\u001b[43m,\u001b[49m\u001b[43m \u001b[49m\u001b[43mW\u001b[49m\u001b[43m,\u001b[49m\u001b[43m \u001b[49m\u001b[43mgradMSE\u001b[49m\u001b[43m(\u001b[49m\u001b[43mX\u001b[49m\u001b[43m,\u001b[49m\u001b[43mT\u001b[49m\u001b[43m,\u001b[49m\u001b[43mW\u001b[49m\u001b[43m)\u001b[49m\u001b[43m)\u001b[49m \u001b[38;5;241m*\u001b[39m gradMSE(X, T, W)\n\u001b[1;32m     27\u001b[0m \u001b[38;5;28mprint\u001b[39m(MSE(X, T ,W))\n",
      "Cell \u001b[0;32mIn[42], line 9\u001b[0m, in \u001b[0;36mbacktrackingLineSearch\u001b[0;34m(alpha0, rho, c, Wk, pk)\u001b[0m\n\u001b[1;32m      7\u001b[0m \u001b[38;5;28;01mdef\u001b[39;00m \u001b[38;5;21mbacktrackingLineSearch\u001b[39m(alpha0, rho, c, Wk, pk):\n\u001b[1;32m      8\u001b[0m     alpha \u001b[38;5;241m=\u001b[39m alpha0\n\u001b[0;32m----> 9\u001b[0m     \u001b[38;5;28;01mwhile\u001b[39;00m \u001b[43mMSE\u001b[49m\u001b[43m(\u001b[49m\u001b[43mX\u001b[49m\u001b[43m,\u001b[49m\u001b[43m \u001b[49m\u001b[43mWk\u001b[49m\u001b[43m \u001b[49m\u001b[38;5;241;43m+\u001b[39;49m\u001b[43m \u001b[49m\u001b[43malpha\u001b[49m\u001b[38;5;241;43m*\u001b[39;49m\u001b[43mpk\u001b[49m\u001b[43m,\u001b[49m\u001b[43m \u001b[49m\u001b[43mT\u001b[49m\u001b[43m)\u001b[49m \u001b[38;5;241m>\u001b[39m MSE(X, Wk, T) \u001b[38;5;241m+\u001b[39m c \u001b[38;5;241m*\u001b[39m alpha \u001b[38;5;241m*\u001b[39m \u001b[38;5;241m-\u001b[39mpk\u001b[38;5;241m.\u001b[39mT \u001b[38;5;241m*\u001b[39m pk:\n\u001b[1;32m     10\u001b[0m         alpha \u001b[38;5;241m=\u001b[39m alpha \u001b[38;5;241m*\u001b[39m rho\n\u001b[1;32m     12\u001b[0m         \u001b[38;5;28;01mif\u001b[39;00m alpha \u001b[38;5;241m>\u001b[39m \u001b[38;5;241m10e-8\u001b[39m:\n",
      "Cell \u001b[0;32mIn[39], line 7\u001b[0m, in \u001b[0;36mMSE\u001b[0;34m(X, T, W)\u001b[0m\n\u001b[1;32m      5\u001b[0m     xk \u001b[38;5;241m=\u001b[39m X[i,:]\n\u001b[1;32m      6\u001b[0m     tk \u001b[38;5;241m=\u001b[39m T[i,:]\n\u001b[0;32m----> 7\u001b[0m     gk \u001b[38;5;241m=\u001b[39m \u001b[43mg\u001b[49m\u001b[43m(\u001b[49m\u001b[43mxk\u001b[49m\u001b[43m,\u001b[49m\u001b[43m \u001b[49m\u001b[43mW\u001b[49m\u001b[43m)\u001b[49m\n\u001b[1;32m      9\u001b[0m     mseSum \u001b[38;5;241m+\u001b[39m\u001b[38;5;241m=\u001b[39m (\u001b[38;5;241m1\u001b[39m\u001b[38;5;241m/\u001b[39m\u001b[38;5;241m2\u001b[39m)\u001b[38;5;241m*\u001b[39m np\u001b[38;5;241m.\u001b[39mlinalg\u001b[38;5;241m.\u001b[39mnorm((gk \u001b[38;5;241m-\u001b[39m tk), \u001b[38;5;28mord\u001b[39m\u001b[38;5;241m=\u001b[39m\u001b[38;5;241m2\u001b[39m)\n\u001b[1;32m     11\u001b[0m \u001b[38;5;28;01mreturn\u001b[39;00m mseSum\n",
      "Cell \u001b[0;32mIn[33], line 8\u001b[0m, in \u001b[0;36mg\u001b[0;34m(x, W)\u001b[0m\n\u001b[1;32m      7\u001b[0m \u001b[38;5;28;01mdef\u001b[39;00m \u001b[38;5;21mg\u001b[39m(x, W): \u001b[38;5;66;03m# Eq 20 on vector form classification compendium\u001b[39;00m\n\u001b[0;32m----> 8\u001b[0m     zk \u001b[38;5;241m=\u001b[39m \u001b[43mnp\u001b[49m\u001b[38;5;241;43m.\u001b[39;49m\u001b[43mmatmul\u001b[49m\u001b[43m(\u001b[49m\u001b[43mW\u001b[49m\u001b[43m,\u001b[49m\u001b[43m \u001b[49m\u001b[43mx\u001b[49m\u001b[43m)\u001b[49m\n\u001b[1;32m      9\u001b[0m     gk \u001b[38;5;241m=\u001b[39m \u001b[38;5;241m1\u001b[39m \u001b[38;5;241m/\u001b[39m (\u001b[38;5;241m1\u001b[39m \u001b[38;5;241m+\u001b[39m np\u001b[38;5;241m.\u001b[39mexp(\u001b[38;5;241m-\u001b[39mzk))\n\u001b[1;32m     10\u001b[0m     \u001b[38;5;28;01mreturn\u001b[39;00m gk\n",
      "\u001b[0;31mValueError\u001b[0m: matmul: Input operand 1 has a mismatch in its core dimension 0, with gufunc signature (n?,k),(k,m?)->(n?,m?) (size 5 is different from 3)"
     ]
    }
   ],
   "source": [
    "tolerance = 1e-4\n",
    "alpha = 0.05\n",
    "\n",
    "np.random.seed(10)\n",
    "W = np.random.uniform(-1, 1, (3,5))\n",
    "\n",
    "# Condition on grad W\n",
    "# while np.linalg.norm(gradMSE(X, T, W), ord='fro') > tolerance:\n",
    "#     W = W - alpha * gradMSE(X, T, W)\n",
    "#     print(f\"Norm: {np.linalg.norm(gradMSE(X, T, W), ord='fro')}, MSE: {MSE(X, T, W)}\")\n",
    "    \n",
    "\n",
    "# Condition on change in W\n",
    "# W_old = W + 10*np.ones((3,5))\n",
    "# while np.linalg.norm(W-W_old, ord='fro') > tolerance:\n",
    "#     print(f\"Change in W: {np.linalg.norm(W-W_old, ord='fro')}, MSE: {MSE(X, T, W)}\")\n",
    "#     W_old = W\n",
    "#     W = W - alpha * gradMSE(X, T, W)\n",
    "\n",
    "W_old = W + 10*np.ones((3,5))\n",
    "# Condition on MSE\n",
    "while MSE(X, T, W) > 25:\n",
    "    print(f\"Change in W: {np.linalg.norm(W-W_old, ord='fro')}, MSE: {MSE(X, T, W)}\")\n",
    "    W_old = W\n",
    "    W = W - alpha * gradMSE(X, T, W)\n",
    "\n",
    "print(MSE(X, T ,W))\n"
   ]
  },
  {
   "cell_type": "markdown",
   "metadata": {},
   "source": [
    "# Verification of model"
   ]
  },
  {
   "cell_type": "code",
   "execution_count": 37,
   "metadata": {},
   "outputs": [
    {
     "name": "stdout",
     "output_type": "stream",
     "text": [
      "0 [9.87008218e-01 3.95020002e-02 5.98720513e-26]\n",
      "0 [9.82111966e-01 6.60934485e-01 1.39997100e-23]\n",
      "0 [9.81770686e-01 1.24045944e-01 3.38123220e-24]\n",
      "0 [9.72829190e-01 1.78608857e-01 1.46009196e-22]\n",
      "0 [9.85942409e-01 1.06933193e-02 5.18787645e-26]\n",
      "0 [9.86033590e-01 1.40728336e-03 1.39791617e-25]\n",
      "0 [9.77273742e-01 9.71428693e-03 1.59153728e-23]\n",
      "0 [9.83088501e-01 6.22810005e-02 8.31676317e-25]\n",
      "0 [9.69662679e-01 3.97510424e-01 9.37811499e-22]\n",
      "0 [9.80480753e-01 5.08494453e-01 4.82950971e-24]\n",
      "0 [9.89515790e-01 1.98833932e-02 4.73727351e-27]\n",
      "0 [9.76226504e-01 2.74175417e-02 1.00103674e-23]\n",
      "0 [9.80738487e-01 6.48893762e-01 6.94197760e-24]\n",
      "0 [9.78846550e-01 2.22559860e-01 6.81647469e-24]\n",
      "0 [9.95738239e-01 7.15729001e-03 8.98209277e-31]\n",
      "0 [9.93080874e-01 4.92235310e-05 3.14395167e-29]\n",
      "0 [9.91993455e-01 1.72138871e-03 1.49685959e-27]\n",
      "0 [9.86642761e-01 2.81655673e-02 2.37585703e-25]\n",
      "0 [9.89769005e-01 1.67595594e-02 1.05002299e-26]\n",
      "0 [9.85689262e-01 1.67446173e-03 6.30682497e-26]\n",
      "0 [9.85159557e-01 2.31542313e-01 5.36121264e-25]\n",
      "0 [9.84941754e-01 2.99577045e-03 5.68331581e-25]\n",
      "0 [9.87858429e-01 2.62862096e-03 8.32781164e-27]\n",
      "0 [9.77622875e-01 7.40310797e-02 5.79598661e-22]\n",
      "0 [9.64198481e-01 2.36580268e-02 3.00728831e-22]\n",
      "0 [9.78706931e-01 7.25086575e-01 6.87557047e-23]\n",
      "0 [9.79485111e-01 3.04068270e-02 4.07119289e-23]\n",
      "0 [9.86523560e-01 5.52902618e-02 9.45886050e-26]\n",
      "0 [9.87994205e-01 1.35308436e-01 6.90969139e-26]\n",
      "0 [9.72468594e-01 1.08514997e-01 1.01578091e-22]\n",
      "1 [7.77062402e-01 8.03049918e-01 4.99679619e-07]\n",
      "1 [7.06987587e-01 2.20419938e-01 1.19095352e-05]\n",
      "1 [6.92589897e-01 8.15227577e-01 8.56162193e-05]\n",
      "1 [0.62165857 0.98853308 0.00184683]\n",
      "1 [6.79054863e-01 9.43835858e-01 5.00122969e-04]\n",
      "1 [0.52955417 0.58563812 0.00229199]\n",
      "1 [6.20471347e-01 4.52009623e-02 3.95585018e-04]\n",
      "1 [7.24680871e-01 9.24646335e-01 2.69763153e-07]\n",
      "1 [7.17623962e-01 9.52206405e-01 7.11120925e-06]\n",
      "1 [0.59697387 0.31331735 0.00067617]\n",
      "1 [6.67262272e-01 9.98559994e-01 3.52319378e-05]\n",
      "1 [6.76568977e-01 2.20599861e-01 6.03031653e-05]\n",
      "1 [7.45510317e-01 9.99787437e-01 2.27946482e-06]\n",
      "1 [0.56132649 0.63994605 0.00258105]\n",
      "1 [7.86486916e-01 3.69047217e-01 7.34175161e-08]\n",
      "1 [7.91900271e-01 7.82454257e-01 2.87768018e-07]\n",
      "1 [0.50144181 0.06765319 0.01361504]\n",
      "1 [6.99525245e-01 9.49501127e-01 4.54312971e-07]\n",
      "1 [0.60782969 0.99929769 0.14396606]\n",
      "1 [6.99314575e-01 9.76896559e-01 3.72486218e-06]\n",
      "1 [0.46436171 0.01119707 0.39740908]\n",
      "1 [7.74750992e-01 9.01255832e-01 5.27828376e-07]\n",
      "1 [0.51248536 0.99064884 0.40532533]\n",
      "1 [5.69352218e-01 9.00976149e-01 3.73043839e-04]\n",
      "1 [7.59062382e-01 9.11871014e-01 9.16519621e-07]\n",
      "1 [7.70187006e-01 8.59335186e-01 1.28587062e-06]\n",
      "1 [6.91426651e-01 9.86353929e-01 1.59918043e-04]\n",
      "1 [0.59505131 0.70274712 0.03554338]\n",
      "1 [0.59776425 0.48070257 0.0020865 ]\n",
      "1 [8.26585750e-01 9.77388283e-01 2.24936750e-09]\n",
      "2 [0.16947837 0.00105196 1.        ]\n",
      "2 [0.30703379 0.32731852 0.99989298]\n",
      "2 [0.35914976 0.65011004 0.9999395 ]\n",
      "2 [0.28406772 0.38407374 0.99977749]\n",
      "2 [0.25209076 0.10913467 0.99999918]\n",
      "2 [0.26002218 0.90743651 0.99999936]\n",
      "2 [0.29055584 0.18526934 0.99933342]\n",
      "2 [0.29447909 0.96110592 0.99993098]\n",
      "2 [0.2919608  0.9916072  0.99998702]\n",
      "2 [0.32566612 0.00229173 0.99999319]\n",
      "2 [0.50002356 0.05153638 0.84313485]\n",
      "2 [0.38359789 0.83178969 0.99935752]\n",
      "2 [0.41894658 0.40408089 0.99925886]\n",
      "2 [0.29898357 0.60894864 0.99999174]\n",
      "2 [0.28271773 0.03219311 0.99999975]\n",
      "2 [0.38486702 0.01135511 0.99984345]\n",
      "2 [0.36511568 0.36625114 0.99395358]\n",
      "2 [0.2844317  0.00560438 0.99992824]\n",
      "2 [0.18025004 0.99619172 1.        ]\n",
      "2 [0.38418901 0.99797806 0.99473808]\n",
      "2 [0.37427478 0.06585827 0.99995054]\n",
      "2 [0.32205614 0.06244549 0.99984714]\n",
      "2 [0.24936849 0.99224453 0.99999969]\n",
      "2 [0.50318516 0.85155736 0.89199601]\n",
      "2 [0.3449953  0.02432312 0.99954344]\n",
      "2 [0.38113976 0.53898548 0.98780893]\n",
      "2 [0.51834684 0.61325845 0.69715726]\n",
      "2 [0.46915202 0.13485235 0.73194712]\n",
      "2 [0.28317178 0.45364301 0.99999691]\n",
      "2 [0.45155167 0.9439145  0.73303861]\n",
      "[[30.  0.  0.]\n",
      " [ 9. 21.  0.]\n",
      " [ 0.  2. 28.]]\n"
     ]
    },
    {
     "data": {
      "text/plain": [
       "<AxesSubplot:>"
      ]
     },
     "execution_count": 37,
     "metadata": {},
     "output_type": "execute_result"
    },
    {
     "data": {
      "image/png": "[encoded data removed]",
      "text/plain": [
       "<Figure size 1000x700 with 2 Axes>"
      ]
     },
     "metadata": {},
     "output_type": "display_data"
    }
   ],
   "source": [
    "import seaborn as sn\n",
    "\n",
    "T_test = np.concatenate((np.tile([1,0,0], (20,1)), np.tile([0,1,0], (20,1)), np.tile([0,0,1], (20,1))))\n",
    "\n",
    "# x-axis: true class\n",
    "# y-axis: predicted class\n",
    "confMatrix = np.zeros((3,3))\n",
    "\n",
    "for i in range(np.size(X, 0)):\n",
    "    x = X[i, :]\n",
    "    t = T[i, :]\n",
    "    true_class = np.argmax(t)\n",
    "    predicted_class = np.argmax(g(x, W))\n",
    "    print(true_class, g(x, W))\n",
    "    confMatrix[true_class][predicted_class] += 1\n",
    "\n",
    "print(confMatrix)\n",
    "\n",
    "plt.figure(figsize = (10,7))\n",
    "sn.heatmap(confMatrix, annot=True)\n"
   ]
  }
 ],
 "metadata": {
  "kernelspec": {
   "display_name": "Python 3",
   "language": "python",
   "name": "python3"
  },
  "language_info": {
   "codemirror_mode": {
    "name": "ipython",
    "version": 3
   },
   "file_extension": ".py",
   "mimetype": "text/x-python",
   "name": "python",
   "nbconvert_exporter": "python",
   "pygments_lexer": "ipython3",
   "version": "3.10.12"
  }
 },
 "nbformat": 4,
 "nbformat_minor": 2
}
